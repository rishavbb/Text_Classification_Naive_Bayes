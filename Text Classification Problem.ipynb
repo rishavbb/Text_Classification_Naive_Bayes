{
 "cells": [
  {
   "cell_type": "code",
   "execution_count": 1,
   "metadata": {
    "collapsed": true
   },
   "outputs": [],
   "source": [
    "import glob\n",
    "import pandas as pd\n",
    "from os import walk\n",
    "import numpy as np\n",
    "import matplotlib.pyplot as plt"
   ]
  },
  {
   "cell_type": "code",
   "execution_count": 2,
   "metadata": {
    "collapsed": true
   },
   "outputs": [],
   "source": [
    "stopwords = [\"a\", \"about\", \"above\", \"above\", \"across\", \"after\", \"afterwards\", \"again\", \"against\", \"all\", \"almost\", \"alone\", \"along\", \"already\", \"also\",\"although\",\"always\",\"am\",\"among\", \"amongst\", \"amoungst\", \"amount\",  \"an\", \"and\", \"another\", \"any\",\"anyhow\",\"anyone\",\"anything\",\"anyway\", \"anywhere\", \"are\", \"around\", \"as\",  \"at\", \"back\",\"be\",\"became\", \"because\",\"become\",\"becomes\", \"becoming\", \"been\", \"before\", \"beforehand\", \"behind\", \"being\", \"below\", \"beside\", \"besides\", \"between\", \"beyond\", \"bill\", \"both\", \"bottom\",\"but\", \"by\", \"call\", \"can\", \"cannot\", \"cant\", \"co\", \"con\", \"could\", \"couldnt\", \"cry\", \"de\", \"describe\", \"detail\", \"do\", \"done\", \"down\", \"due\", \"during\", \"each\", \"eg\", \"eight\", \"either\", \"eleven\",\"else\", \"elsewhere\", \"empty\", \"enough\", \"etc\", \"even\", \"ever\", \"every\", \"everyone\", \"everything\", \"everywhere\", \"except\", \"few\", \"fifteen\", \"fify\", \"fill\", \"find\", \"fire\", \"first\", \"five\", \"for\", \"former\", \"formerly\", \"forty\", \"found\", \"four\", \"from\", \"front\", \"full\", \"further\", \"get\", \"give\", \"go\", \"had\", \"has\", \"hasnt\", \"have\", \"he\", \"hence\", \"her\", \"here\", \"hereafter\", \"hereby\", \"herein\", \"hereupon\", \"hers\", \"herself\", \"him\", \"himself\", \"his\", \"how\", \"however\", \"hundred\", \"ie\", \"if\", \"in\", \"inc\", \"indeed\", \"interest\", \"into\", \"is\", \"it\", \"its\", \"itself\", \"keep\", \"last\", \"latter\", \"latterly\", \"least\", \"less\", \"ltd\", \"made\", \"many\", \"may\", \"me\", \"meanwhile\", \"might\", \"mill\", \"mine\", \"more\", \"moreover\", \"most\", \"mostly\", \"move\", \"much\", \"must\", \"my\", \"myself\", \"name\", \"namely\", \"neither\", \"never\", \"nevertheless\", \"next\", \"nine\", \"no\", \"nobody\", \"none\", \"noone\", \"nor\", \"not\", \"nothing\", \"now\", \"nowhere\", \"of\", \"off\", \"often\", \"on\", \"once\", \"one\", \"only\", \"onto\", \"or\", \"other\", \"others\", \"otherwise\", \"our\", \"ours\", \"ourselves\", \"out\", \"over\", \"own\",\"part\", \"per\", \"perhaps\", \"please\", \"put\", \"rather\", \"re\", \"same\", \"see\", \"seem\", \"seemed\", \"seeming\", \"seems\", \"serious\", \"several\", \"she\", \"should\", \"show\", \"side\", \"since\", \"sincere\", \"six\", \"sixty\", \"so\", \"some\", \"somehow\", \"someone\", \"something\", \"sometime\", \"sometimes\", \"somewhere\", \"still\", \"such\", \"system\", \"take\", \"ten\", \"than\", \"that\", \"the\", \"their\", \"them\", \"themselves\", \"then\", \"thence\", \"there\", \"thereafter\", \"thereby\", \"therefore\", \"therein\", \"thereupon\", \"these\", \"they\", \"thickv\", \"thin\", \"third\", \"this\", \"those\", \"though\", \"three\", \"through\", \"throughout\", \"thru\", \"thus\", \"to\", \"together\", \"too\", \"top\", \"toward\", \"towards\", \"twelve\", \"twenty\", \"two\", \"un\", \"under\", \"until\", \"up\", \"upon\", \"us\", \"very\", \"via\", \"was\", \"we\", \"well\", \"were\", \"what\", \"whatever\", \"when\", \"whence\", \"whenever\", \"where\", \"whereafter\", \"whereas\", \"whereby\", \"wherein\", \"whereupon\", \"wherever\", \"whether\", \"which\", \"while\", \"whither\", \"who\", \"whoever\", \"whole\", \"whom\", \"whose\", \"why\", \"will\", \"with\", \"within\", \"without\", \"would\", \"yet\", \"you\", \"your\", \"yours\", \"yourself\", \"yourselves\", \"the\",\"i\"]"
   ]
  },
  {
   "cell_type": "code",
   "execution_count": null,
   "metadata": {
    "collapsed": true
   },
   "outputs": [],
   "source": []
  },
  {
   "cell_type": "code",
   "execution_count": 3,
   "metadata": {
    "collapsed": true
   },
   "outputs": [],
   "source": [
    "path=r\"C:\\Users\\Rishav\\20_newsgroups\"\n",
    "filenames=glob.glob(path+\"/*/**\")"
   ]
  },
  {
   "cell_type": "code",
   "execution_count": 4,
   "metadata": {},
   "outputs": [
    {
     "name": "stdout",
     "output_type": "stream",
     "text": [
      "C:\\Users\\Rishav\\20_newsgroups\\alt.atheism\\51060\n"
     ]
    }
   ],
   "source": [
    "print(filenames[1])\n",
    "#the type of document is in index 4\n",
    "#so accordingly I will extract Y from it"
   ]
  },
  {
   "cell_type": "code",
   "execution_count": 5,
   "metadata": {
    "collapsed": true
   },
   "outputs": [],
   "source": [
    "X_files=filenames.copy()\n",
    "Y_files=[]\n",
    "for i in range(len(X_files)):\n",
    "    Y_files.append(filenames[i].split(\"\\\\\")[4])"
   ]
  },
  {
   "cell_type": "code",
   "execution_count": 6,
   "metadata": {
    "collapsed": true
   },
   "outputs": [],
   "source": [
    "from sklearn.model_selection import train_test_split\n",
    "X_train_files,X_test_files,Y_train,Y_test=train_test_split(X_files,Y_files,random_state=0)\n",
    "#mind Y_train and Y_test and not Y_train_files and  Y_test_files because i am getting them directly"
   ]
  },
  {
   "cell_type": "code",
   "execution_count": null,
   "metadata": {
    "collapsed": true
   },
   "outputs": [],
   "source": []
  },
  {
   "cell_type": "code",
   "execution_count": null,
   "metadata": {
    "collapsed": true
   },
   "outputs": [],
   "source": []
  },
  {
   "cell_type": "code",
   "execution_count": 7,
   "metadata": {
    "collapsed": true
   },
   "outputs": [],
   "source": [
    "def makeUnique(data,unique):\n",
    "\n",
    "    for i in data:\n",
    "        a=i.lower() #converting into lower case as my stopwords are in lower case\n",
    "        if((a not in stopwords) and (a not in unique)):\n",
    "            \n",
    "\n",
    "            unique.append(a)  #making my unique list\n",
    "\n",
    "    return unique\n",
    "        "
   ]
  },
  {
   "cell_type": "code",
   "execution_count": 8,
   "metadata": {
    "collapsed": true
   },
   "outputs": [],
   "source": [
    "def load(fname):\n",
    "    '''Load the file using std open'''\n",
    "\n",
    "    f=open(fname,\"r\")  #opening the file\n",
    "    data=f.read().split()   #extracting the words and storing it in a list named \"data\"\n",
    "    \n",
    "    return data"
   ]
  },
  {
   "cell_type": "code",
   "execution_count": 9,
   "metadata": {
    "collapsed": true
   },
   "outputs": [],
   "source": [
    "import glob\n",
    "import pandas as pd\n",
    "\n",
    "unique=[]\n",
    "\n",
    "for file in X_train_files:   \n",
    "\n",
    "\n",
    "    data=load(file)  #getting all the words of one document at a time in the list named data\n",
    "    unique=makeUnique(data,unique)   #finding the unique elements from it\n"
   ]
  },
  {
   "cell_type": "code",
   "execution_count": null,
   "metadata": {
    "collapsed": true
   },
   "outputs": [],
   "source": []
  },
  {
   "cell_type": "code",
   "execution_count": 10,
   "metadata": {
    "collapsed": true
   },
   "outputs": [],
   "source": [
    "#making a copy of unique\n",
    "\n",
    "uni=unique.copy()"
   ]
  },
  {
   "cell_type": "code",
   "execution_count": 11,
   "metadata": {
    "collapsed": true
   },
   "outputs": [],
   "source": [
    "def count(data, uni,frequency):\n",
    "    \n",
    "    for i in data:\n",
    "        a=i.lower()\n",
    "        if a not in stopwords:\n",
    "            w=uni.index(a)  #finding the index position of unique word\n",
    "            frequency[w]+=1  #adding the frequency of each unique word by 1 each time\n",
    "    return frequency\n",
    "\n"
   ]
  },
  {
   "cell_type": "code",
   "execution_count": 12,
   "metadata": {
    "collapsed": true
   },
   "outputs": [],
   "source": [
    "frequency=np.zeros(len(uni))  #to find the frequency of unique elements\n",
    "\n",
    "for file in X_train_files: \n",
    "\n",
    "    data=load(file)  #getting all the words of one document at a time in the list named data\n",
    "    frequency=count(data,uni,frequency)\n",
    "    \n"
   ]
  },
  {
   "cell_type": "code",
   "execution_count": null,
   "metadata": {
    "collapsed": true
   },
   "outputs": [],
   "source": []
  },
  {
   "cell_type": "code",
   "execution_count": 13,
   "metadata": {},
   "outputs": [
    {
     "data": {
      "image/png": "[encoded data removed]",
      "text/plain": [
       "<matplotlib.figure.Figure at 0x18914ff2cc0>"
      ]
     },
     "metadata": {},
     "output_type": "display_data"
    }
   ],
   "source": [
    "\n",
    "a=frequency.copy()  #making a copy of frequency\n",
    "\n",
    "Y_axis,X_axis=np.unique(a, return_counts=True)  #this is used to find how many unique words are there of specific frequency like number of unique words with frequencies 1 and then 2 and so on\n",
    "Y_axis=list(Y_axis)#holds the frequencies                   \n",
    "X_axis=list(X_axis)#holds the no of words with specific frequency\n",
    "plt.plot(X_axis,Y_axis)\n",
    "plt.show()"
   ]
  },
  {
   "cell_type": "code",
   "execution_count": 16,
   "metadata": {
    "collapsed": true
   },
   "outputs": [],
   "source": [
    "#clearly deleting the words having frequencies till 100 as they are not of so use on checking the graph\n",
    "\n",
    "\n",
    "del X_axis[:100]\n",
    "del Y_axis[:100]\n"
   ]
  },
  {
   "cell_type": "code",
   "execution_count": 19,
   "metadata": {},
   "outputs": [
    {
     "data": {
      "image/png": "[encoded data removed]",
      "text/plain": [
       "<matplotlib.figure.Figure at 0x1891636b358>"
      ]
     },
     "metadata": {},
     "output_type": "display_data"
    }
   ],
   "source": [
    "plt.plot(X_axis,Y_axis)\n",
    "plt.show()"
   ]
  },
  {
   "cell_type": "code",
   "execution_count": 20,
   "metadata": {
    "collapsed": true
   },
   "outputs": [],
   "source": [
    "uni=list(unique.copy())  #making a copy and converting it into list\n",
    "freq=list(frequency.copy()) #making a copy and converting it into list\n",
    "i=0\n",
    "while(True):    \n",
    "    if(i<len(freq)):      \n",
    "        if freq[i]<=100:  #deleting the unique elements with frequency less than 100\n",
    "            del freq[i]\n",
    "            del uni[i]\n",
    "            continue\n",
    "        i+=1\n",
    "    else:\n",
    "        break\n",
    "\n",
    "        \n",
    "        #mind, using while loop as true, because cant use for loop, with each deletion of element, the index changes\n",
    "        #thus,i am making the check with the len of list each time while running the loop"
   ]
  },
  {
   "cell_type": "code",
   "execution_count": 21,
   "metadata": {},
   "outputs": [
    {
     "data": {
      "text/plain": [
       "101.0"
      ]
     },
     "execution_count": 21,
     "metadata": {},
     "output_type": "execute_result"
    }
   ],
   "source": [
    "min(freq)"
   ]
  },
  {
   "cell_type": "code",
   "execution_count": null,
   "metadata": {
    "collapsed": true
   },
   "outputs": [],
   "source": []
  },
  {
   "cell_type": "code",
   "execution_count": null,
   "metadata": {
    "collapsed": true
   },
   "outputs": [],
   "source": []
  },
  {
   "cell_type": "code",
   "execution_count": null,
   "metadata": {
    "collapsed": true
   },
   "outputs": [],
   "source": []
  },
  {
   "cell_type": "code",
   "execution_count": 22,
   "metadata": {
    "collapsed": true
   },
   "outputs": [],
   "source": [
    "def form(data,x,uni,row):\n",
    "    for i in data:\n",
    "        if i not in uni:\n",
    "            continue\n",
    "        w=uni.index(i)    #finding the index value of the word in my vocabulary\n",
    "        x[row][w]+=1      #adding 1 in the column as specified\n",
    "    return x\n",
    "        "
   ]
  },
  {
   "cell_type": "code",
   "execution_count": 23,
   "metadata": {
    "collapsed": true
   },
   "outputs": [],
   "source": [
    "\n",
    "X_train=np.zeros(shape=(len(X_train_files),len(uni)))  #Creating a X_train of size as training files X size of my vocabulary\n",
    "i=0\n",
    "\n",
    "for file in X_train_files:\n",
    "    \n",
    "    data=load(file)  #getting all the words of one document at a time in the list named data\n",
    "    X_train=form(data,X_train,uni,i)  \n",
    "    i+=1"
   ]
  },
  {
   "cell_type": "code",
   "execution_count": null,
   "metadata": {
    "collapsed": true
   },
   "outputs": [],
   "source": []
  },
  {
   "cell_type": "code",
   "execution_count": 24,
   "metadata": {
    "collapsed": true
   },
   "outputs": [],
   "source": [
    "#now, forming X_test\n",
    "X_test=np.zeros(shape=(len(X_test_files),len(uni)))\n",
    "i=0\n",
    "#foor loopp use kar\n",
    "for file in X_test_files:\n",
    "    \n",
    "    data=load(file)\n",
    "    X_test=form(data,X_test,uni,i)  #in the similar way making X_test\n",
    "    i+=1\n"
   ]
  },
  {
   "cell_type": "code",
   "execution_count": null,
   "metadata": {
    "collapsed": true
   },
   "outputs": [],
   "source": []
  },
  {
   "cell_type": "code",
   "execution_count": 25,
   "metadata": {
    "scrolled": true
   },
   "outputs": [
    {
     "name": "stdout",
     "output_type": "stream",
     "text": [
      "                          precision    recall  f1-score   support\n",
      "\n",
      "             alt.atheism       0.70      0.78      0.74       233\n",
      "           comp.graphics       0.73      0.72      0.72       253\n",
      " comp.os.ms-windows.misc       0.73      0.80      0.76       249\n",
      "comp.sys.ibm.pc.hardware       0.78      0.85      0.82       240\n",
      "   comp.sys.mac.hardware       0.80      0.85      0.82       236\n",
      "          comp.windows.x       0.86      0.79      0.82       240\n",
      "            misc.forsale       0.74      0.80      0.77       261\n",
      "               rec.autos       0.85      0.87      0.86       269\n",
      "         rec.motorcycles       0.82      0.91      0.86       284\n",
      "      rec.sport.baseball       0.81      0.89      0.85       248\n",
      "        rec.sport.hockey       0.92      0.74      0.82       231\n",
      "               sci.crypt       0.93      0.85      0.89       233\n",
      "         sci.electronics       0.88      0.85      0.87       244\n",
      "                 sci.med       0.92      0.84      0.88       256\n",
      "               sci.space       0.85      0.83      0.84       246\n",
      "  soc.religion.christian       0.86      0.95      0.90       252\n",
      "      talk.politics.guns       0.68      0.79      0.73       249\n",
      "   talk.politics.mideast       0.85      0.69      0.76       281\n",
      "      talk.politics.misc       0.62      0.56      0.59       259\n",
      "      talk.religion.misc       0.53      0.43      0.47       236\n",
      "\n",
      "             avg / total       0.79      0.79      0.79      5000\n",
      "\n",
      "[[182   1   0   0   0   0   2   0   4   2   0   0   0   0   2   2   5   1\n",
      "    3  29]\n",
      " [  1 183  23  13   1   8   4   1   4   0   1   1   4   1   7   0   0   0\n",
      "    1   0]\n",
      " [  0  12 198   9   3  10   1   0   3   1   0   1   2   0   3   0   2   0\n",
      "    4   0]\n",
      " [  0   3   5 205  14   0   7   3   0   0   0   0   3   0   0   0   0   0\n",
      "    0   0]\n",
      " [  0   1   7  10 201   3   7   0   0   0   0   0   4   1   0   0   1   0\n",
      "    1   0]\n",
      " [  0  18  12   3   6 189   2   1   2   0   1   0   1   2   2   0   0   0\n",
      "    0   1]\n",
      " [  0   3   3  11   8   1 208  10   5   1   2   4   2   0   1   0   0   1\n",
      "    1   0]\n",
      " [  2   2   2   0   2   1   8 235   4   0   1   0   4   0   2   0   2   1\n",
      "    2   1]\n",
      " [  2   0   0   0   1   0   6   3 259   1   0   0   1   1   0   2   2   0\n",
      "    6   0]\n",
      " [  2   2   1   1   1   1   5   2   3 220   8   0   1   0   0   0   0   0\n",
      "    1   0]\n",
      " [  1   0   0   0   0   0   2   2   7  41 170   2   0   0   0   2   1   0\n",
      "    1   2]\n",
      " [  1   4   2   1   1   4   1   3   0   0   0 199   0   1   0   0   4   1\n",
      "    7   4]\n",
      " [  0   5   6   5   7   1   6   4   0   1   0   1 208   0   0   0   0   0\n",
      "    0   0]\n",
      " [  2   4   1   0   1   0   3   3   7   0   0   0   2 216   4   0   3   3\n",
      "    3   4]\n",
      " [  2   8   3   0   0   2   2   2   2   0   1   1   2   2 204   0   2   3\n",
      "    3   7]\n",
      " [  2   1   2   0   0   0   0   0   1   0   0   0   0   1   1 239   0   2\n",
      "    1   2]\n",
      " [  2   1   1   0   2   0   7   1   3   1   0   2   1   3   1   0 196   6\n",
      "   15   7]\n",
      " [  7   2   2   0   2   0   5   2   7   1   0   1   0   3   4   5  13 195\n",
      "   21  11]\n",
      " [  8   1   2   2   1   0   4   4   3   3   1   1   1   3   7   5  32  13\n",
      "  144  24]\n",
      " [ 47   1   0   2   1   0   2   2   3   0   0   1   0   0   3  24  26   4\n",
      "   18 102]]\n"
     ]
    }
   ],
   "source": [
    "from sklearn.metrics import classification_report,confusion_matrix\n",
    "from sklearn.naive_bayes import MultinomialNB\n",
    "clf=MultinomialNB()\n",
    "clf.fit(X_train,Y_train)\n",
    "Y_pred=clf.predict(X_test)\n",
    "print(classification_report(Y_test,Y_pred))\n",
    "print(confusion_matrix(Y_test,Y_pred))"
   ]
  },
  {
   "cell_type": "code",
   "execution_count": null,
   "metadata": {
    "collapsed": true
   },
   "outputs": [],
   "source": []
  },
  {
   "cell_type": "markdown",
   "metadata": {},
   "source": [
    "Implementation Part"
   ]
  },
  {
   "cell_type": "code",
   "execution_count": 26,
   "metadata": {
    "collapsed": true
   },
   "outputs": [],
   "source": [
    "def probability(Xa,word,total,uni,rows):\n",
    "    #print(\"lol\",Xa.shape[0])\n",
    "    output= np.log(Xa.shape[0]) - np.log(rows) #Xa.shape[0] holds the number of rows of a particular class value, whereas rows hold the total number of X_train rows\n",
    "    \n",
    "    w=uni.index(word)    #find the index of the word in vocabulary\n",
    "    nume=Xa[:,w].sum() + 1   #finding the sum of all the occurance of the particular word and adding 1 for laplace correction\n",
    "    deno=total + len(uni)  #total holds the sum of all the words of vocabulary of the given required class and len(uni) laplace correction\n",
    "    pro=np.log(nume) - np.log(deno)   #using log and subtracting numerator and denominator\n",
    "    output=output+pro\n",
    "    return output"
   ]
  },
  {
   "cell_type": "code",
   "execution_count": 27,
   "metadata": {
    "collapsed": true
   },
   "outputs": [],
   "source": [
    "def construct(X_train,Y_train,uni):\n",
    "    result={}        \n",
    "    class_values=set(Y_train)  #extracting all the class values in Y_train\n",
    "    for i in class_values:     #iteratng over each class value\n",
    "\n",
    "        result[i]=[]      #making a list for each class value. this list will hold the frequency of the words in the vocabulary\n",
    "        current_class_rows = (Y_train==i)   #extracting all the rows of Y_train consisting of required class_value\n",
    "\n",
    "        Xa = X_train[current_class_rows]  #extracting all the rows of Y_train consisting of required class_value\n",
    "        \n",
    "        total_sum_of_values_of_class=Xa.sum()  #the sum of all the words of vocabulary of the given required class\n",
    "        #print(total_sum_of_values_of_class)\n",
    "        for j in uni:\n",
    "            m=probability(Xa,j,total_sum_of_values_of_class,uni,X_train.shape[0])    #iterating through each word of vocabulary and sending it to probability function\n",
    "            #print(m)\n",
    "            result[i].append(m)  #finally appending it in list\n",
    "        \n",
    "    return result\n",
    "    "
   ]
  },
  {
   "cell_type": "code",
   "execution_count": null,
   "metadata": {
    "collapsed": true
   },
   "outputs": [],
   "source": []
  },
  {
   "cell_type": "code",
   "execution_count": 28,
   "metadata": {
    "collapsed": true
   },
   "outputs": [],
   "source": [
    "Y_train=np.array(Y_train) #very important step as Y_train was a List, converting it to numpy array will come in handy for current_class_rows in predict\n",
    "\n",
    "dictionary=construct(X_train,Y_train,uni)  #calling construct function to make the dictionary"
   ]
  },
  {
   "cell_type": "code",
   "execution_count": null,
   "metadata": {
    "collapsed": true
   },
   "outputs": [],
   "source": []
  },
  {
   "cell_type": "code",
   "execution_count": null,
   "metadata": {
    "collapsed": true
   },
   "outputs": [],
   "source": []
  },
  {
   "cell_type": "code",
   "execution_count": 29,
   "metadata": {
    "collapsed": true
   },
   "outputs": [],
   "source": [
    "def check_dict(w,dictionary,current_class):\n",
    "    return dictionary[current_class][w]"
   ]
  },
  {
   "cell_type": "code",
   "execution_count": 30,
   "metadata": {
    "collapsed": true
   },
   "outputs": [],
   "source": [
    "def form2(data,dictionary,uni):\n",
    "    classes=dictionary.keys()   #class values in the dictionary\n",
    "    best_p=-1000\n",
    "    best_class=-1\n",
    "    first_run=True\n",
    "    tot=0\n",
    "    for current_class in classes:   #iterating over all the class values one by one to find the maximum probability\n",
    "        tot=0\n",
    "        for i in data:       # iterating over all the words one by one of a document\n",
    "            if i not in uni:\n",
    "                continue\n",
    "            w=uni.index(i)  #  finding the index of the word in vocabulary\n",
    "            tot+=check_dict(w,dictionary,current_class)  #calling check_dict() to get the required probability with respect to the training data\n",
    "        if(first_run or tot>best_p):  #finding the best class\n",
    "            best_p=tot                  #holding the best probability value\n",
    "            best_class=current_class      #holding the best class\n",
    "        first_run = False               #this is used to make the best_p and best_class hold the best class only for the very first iteration and then making it false\n",
    "    return best_class\n",
    "    "
   ]
  },
  {
   "cell_type": "code",
   "execution_count": 31,
   "metadata": {
    "collapsed": true
   },
   "outputs": [],
   "source": [
    "\n",
    "Y_pred=[]\n",
    "for file in X_test_files:\n",
    "    data=load(file)\n",
    "    Y_pred.append(form2(data,dictionary,uni))   #appending the best class in Y_pred\n"
   ]
  },
  {
   "cell_type": "code",
   "execution_count": 33,
   "metadata": {},
   "outputs": [
    {
     "name": "stdout",
     "output_type": "stream",
     "text": [
      "                          precision    recall  f1-score   support\n",
      "\n",
      "             alt.atheism       0.67      0.80      0.73       233\n",
      "           comp.graphics       0.75      0.70      0.73       253\n",
      " comp.os.ms-windows.misc       0.74      0.80      0.77       249\n",
      "comp.sys.ibm.pc.hardware       0.77      0.85      0.81       240\n",
      "   comp.sys.mac.hardware       0.77      0.87      0.82       236\n",
      "          comp.windows.x       0.86      0.81      0.83       240\n",
      "            misc.forsale       0.74      0.79      0.77       261\n",
      "               rec.autos       0.86      0.87      0.86       269\n",
      "         rec.motorcycles       0.90      0.89      0.90       284\n",
      "      rec.sport.baseball       0.83      0.89      0.86       248\n",
      "        rec.sport.hockey       0.92      0.77      0.84       231\n",
      "               sci.crypt       0.91      0.87      0.89       233\n",
      "         sci.electronics       0.85      0.86      0.85       244\n",
      "                 sci.med       0.93      0.84      0.88       256\n",
      "               sci.space       0.83      0.85      0.84       246\n",
      "  soc.religion.christian       0.87      0.95      0.91       252\n",
      "      talk.politics.guns       0.66      0.81      0.73       249\n",
      "   talk.politics.mideast       0.89      0.61      0.72       281\n",
      "      talk.politics.misc       0.64      0.53      0.58       259\n",
      "      talk.religion.misc       0.50      0.47      0.49       236\n",
      "\n",
      "             avg / total       0.80      0.79      0.79      5000\n",
      "\n",
      "[[187   1   0   0   0   0   2   1   2   1   0   0   0   0   2   2   7   0\n",
      "    1  27]\n",
      " [  1 178  22  14   3  10   4   1   3   0   1   3   4   1   7   0   0   0\n",
      "    1   0]\n",
      " [  0  12 200   9   4  10   1   0   0   1   0   1   2   0   3   0   2   0\n",
      "    3   1]\n",
      " [  0   3   5 205  14   0   7   3   0   0   0   0   3   0   0   0   0   0\n",
      "    0   0]\n",
      " [  0   1   6  10 205   3   6   0   0   0   0   0   4   0   0   0   1   0\n",
      "    0   0]\n",
      " [  0  13  12   3   6 195   2   1   1   0   1   1   1   1   2   0   0   0\n",
      "    0   1]\n",
      " [  0   1   3  11  10   1 207   9   2   1   2   4   6   0   2   0   0   1\n",
      "    1   0]\n",
      " [  3   1   2   2   3   1   8 234   3   0   1   0   4   0   2   0   3   0\n",
      "    2   0]\n",
      " [  2   0   1   0   1   0   6   4 253   1   0   0   3   1   0   2   3   0\n",
      "    6   1]\n",
      " [  2   2   1   1   1   1   5   2   2 221   8   0   1   0   1   0   0   0\n",
      "    0   0]\n",
      " [  1   0   0   0   0   0   1   4   3  35 179   2   0   0   0   2   1   0\n",
      "    1   2]\n",
      " [  1   3   2   1   1   4   1   2   0   0   1 202   1   1   1   0   2   0\n",
      "    6   4]\n",
      " [  0   5   6   6   8   1   4   3   0   1   0   1 209   0   0   0   0   0\n",
      "    0   0]\n",
      " [  3   4   0   1   2   0   3   2   5   1   0   1   2 214   5   0   4   2\n",
      "    2   5]\n",
      " [  3   8   3   0   1   2   2   0   0   0   1   1   2   2 208   0   2   1\n",
      "    2   8]\n",
      " [  2   1   2   0   0   0   0   0   0   0   0   0   0   1   1 240   0   2\n",
      "    1   2]\n",
      " [  2   1   1   0   2   0   7   0   1   1   0   2   1   3   1   0 202   4\n",
      "   13   8]\n",
      " [ 11   2   2   0   3   0   6   2   3   1   0   1   1   3   5   3  18 172\n",
      "   27  21]\n",
      " [ 11   1   2   2   1   0   4   4   1   3   1   1   1   3   8   5  35   9\n",
      "  136  31]\n",
      " [ 50   1   1   2   1   0   2   1   1   0   0   1   0   0   3  21  25   3\n",
      "   12 112]]\n"
     ]
    }
   ],
   "source": [
    "print(classification_report(Y_test,Y_pred))\n",
    "print(confusion_matrix(Y_test,Y_pred))"
   ]
  },
  {
   "cell_type": "code",
   "execution_count": null,
   "metadata": {
    "collapsed": true
   },
   "outputs": [],
   "source": []
  }
 ],
 "metadata": {
  "kernelspec": {
   "display_name": "Python 3",
   "language": "python",
   "name": "python3"
  },
  "language_info": {
   "codemirror_mode": {
    "name": "ipython",
    "version": 3
   },
   "file_extension": ".py",
   "mimetype": "text/x-python",
   "name": "python",
   "nbconvert_exporter": "python",
   "pygments_lexer": "ipython3",
   "version": "3.6.5"
  }
 },
 "nbformat": 4,
 "nbformat_minor": 2
}
